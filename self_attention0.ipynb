{
  "nbformat": 4,
  "nbformat_minor": 0,
  "metadata": {
    "colab": {
      "provenance": [],
      "authorship_tag": "ABX9TyNookT7+9fmjifbqtDsy4sk",
      "include_colab_link": true
    },
    "kernelspec": {
      "name": "python3",
      "display_name": "Python 3"
    },
    "language_info": {
      "name": "python"
    }
  },
  "cells": [
    {
      "cell_type": "markdown",
      "metadata": {
        "id": "view-in-github",
        "colab_type": "text"
      },
      "source": [
        "<a href=\"https://colab.research.google.com/github/Bob299-bob/NLL-natural-language-processing-/blob/main/self_attention0.ipynb\" target=\"_parent\"><img src=\"https://colab.research.google.com/assets/colab-badge.svg\" alt=\"Open In Colab\"/></a>"
      ]
    },
    {
      "cell_type": "code",
      "execution_count": 54,
      "metadata": {
        "colab": {
          "base_uri": "https://localhost:8080/"
        },
        "id": "lFxK67e9Agfp",
        "outputId": "66b4efd5-c2e5-411f-cff9-947418250097"
      },
      "outputs": [
        {
          "output_type": "stream",
          "name": "stdout",
          "text": [
            "Q\n",
            " [[ 8.38845726e-01 -4.81504610e-01  5.73191457e-01  2.11234863e+00\n",
            "  -1.84345872e+00  1.18120469e-01 -6.15267281e-01 -2.54464693e+00]\n",
            " [-1.14928684e+00  5.17977909e-01  5.06621512e-01  5.24435990e-01\n",
            "  -1.01210127e+00 -8.40819200e-01  1.41069155e+00 -4.10053418e-01]\n",
            " [-1.13400613e-01 -5.78694280e-01  2.96250934e-01  7.57852249e-01\n",
            "  -1.18934252e-01  6.00408087e-02  1.75050663e-01 -4.23889502e-02]\n",
            " [ 1.58024830e-01  1.06199131e-04 -1.97478501e-01 -5.20431430e-01\n",
            "   3.45827989e-02  8.75537810e-01 -1.50279477e+00  1.72229801e+00]]\n",
            "k\n",
            " [[ 0.5367691  -0.08316988  0.32328321  1.84408085 -0.14158785  0.85856096\n",
            "   1.23989639 -0.33443596]\n",
            " [-0.93916735  0.55969623 -0.07064675  3.20466638 -1.40489636  0.95329747\n",
            "  -0.17036299  1.40396921]\n",
            " [ 0.26567382 -0.23939827  0.24248819 -0.0999104   0.05171373 -0.64362389\n",
            "  -0.94303913 -0.70275003]\n",
            " [ 1.02222347 -0.89483479 -0.65100237  0.59666807  0.71178612  1.72012423\n",
            "   0.81644616  0.94556134]]\n",
            "v\n",
            " [[ 1.1165428   0.89675836  0.5019294   0.96622162  1.35893589  0.67273503\n",
            "   0.66755789  0.27039237]\n",
            " [-0.20334771 -0.02393324 -1.12896991 -0.36430432  0.73143535  0.40660293\n",
            "  -0.97404136  0.91902045]\n",
            " [ 0.91692855 -0.12549047  0.69901738 -0.43864858  0.80162079 -0.10139034\n",
            "  -0.39044696 -1.41247333]\n",
            " [ 0.29356952  1.16190665  0.11193392  1.22140483  0.73805598 -0.29394688\n",
            "   0.04849702 -0.09342637]]\n"
          ]
        }
      ],
      "source": [
        "import numpy as np\n",
        "import math\n",
        "l,d_k,d_v=4,8,8\n",
        "q=np.random.randn(l,d_k)\n",
        "k=np.random.randn(l,d_k)\n",
        "v=np.random.randn(l,d_v)\n",
        "print(\"Q\\n\",q)\n",
        "print(\"k\\n\",k)\n",
        "print(\"v\\n\",v)"
      ]
    },
    {
      "cell_type": "markdown",
      "source": [
        "   \n",
        "    self attention = softmax((Q.k^t/sqrt(d_k))+M)V"
      ],
      "metadata": {
        "id": "EmhZkPD8BB2A"
      }
    },
    {
      "cell_type": "code",
      "source": [
        "np.matmul(q, k.T)"
      ],
      "metadata": {
        "colab": {
          "base_uri": "https://localhost:8080/"
        },
        "id": "ACuRjv42CIny",
        "outputId": "54a50567-cfdc-4fed-bf78-35eab5ce66fc"
      },
      "execution_count": 57,
      "outputs": [
        {
          "output_type": "execute_result",
          "data": {
            "text/plain": [
              "array([[ 5.02153672,  4.90625092,  2.46319181, -1.84184197],\n",
              "       [ 1.77855743,  2.81844875, -0.9122258 , -3.0579203 ],\n",
              "       [ 1.78018317,  2.32533572, -0.07555415,  0.78270118],\n",
              "       [-2.63124722,  1.65792651, -0.3088114 ,  1.91171256]])"
            ]
          },
          "metadata": {},
          "execution_count": 57
        }
      ]
    },
    {
      "cell_type": "markdown",
      "source": [
        "Where matmul() is used to perform the matrix multiplication."
      ],
      "metadata": {
        "id": "90GBrrwirwkz"
      }
    },
    {
      "cell_type": "code",
      "source": [
        "q.var(),k.var(),np.matmul(q,k.T).var()"
      ],
      "metadata": {
        "colab": {
          "base_uri": "https://localhost:8080/"
        },
        "id": "VZdTCfrlDWbC",
        "outputId": "162d4a68-8801-4ffa-f076-7bc8d89d5dda"
      },
      "execution_count": 58,
      "outputs": [
        {
          "output_type": "execute_result",
          "data": {
            "text/plain": [
              "(np.float64(0.9168096196173193),\n",
              " np.float64(0.9092649357189566),\n",
              " np.float64(5.337072481997458))"
            ]
          },
          "metadata": {},
          "execution_count": 58
        }
      ]
    },
    {
      "cell_type": "code",
      "source": [
        "from typing import KeysView\n",
        "scaled = np.matmul(q, k.T) / math.sqrt(d_k)\n",
        "q.var(),k.var(),scaled.var()"
      ],
      "metadata": {
        "colab": {
          "base_uri": "https://localhost:8080/"
        },
        "id": "8AlZq_mIF2MY",
        "outputId": "b1087e17-5f20-4f24-a2a6-05452f7a0287"
      },
      "execution_count": 59,
      "outputs": [
        {
          "output_type": "execute_result",
          "data": {
            "text/plain": [
              "(np.float64(0.9168096196173193),\n",
              " np.float64(0.9092649357189566),\n",
              " np.float64(0.6671340602496822))"
            ]
          },
          "metadata": {},
          "execution_count": 59
        }
      ]
    },
    {
      "cell_type": "code",
      "source": [
        "scaled"
      ],
      "metadata": {
        "colab": {
          "base_uri": "https://localhost:8080/"
        },
        "id": "EF69imTFH1OT",
        "outputId": "11e2145f-7da1-40e9-d83f-efa991d2f444"
      },
      "execution_count": 60,
      "outputs": [
        {
          "output_type": "execute_result",
          "data": {
            "text/plain": [
              "array([[ 1.77538133,  1.73462165,  0.87086982, -0.65118947],\n",
              "       [ 0.62881501,  0.99647211, -0.32252052, -1.08113809],\n",
              "       [ 0.6293898 ,  0.82213033, -0.02671243,  0.27672666],\n",
              "       [-0.93028637,  0.58616554, -0.10918132,  0.67589246]])"
            ]
          },
          "metadata": {},
          "execution_count": 60
        }
      ]
    },
    {
      "cell_type": "code",
      "source": [
        "mask=np.tril(np.ones((l,l)))\n",
        "mask"
      ],
      "metadata": {
        "colab": {
          "base_uri": "https://localhost:8080/"
        },
        "id": "7S7mu1vaH_yv",
        "outputId": "d06ef12d-e92a-4a1a-c765-089eaed30070"
      },
      "execution_count": 61,
      "outputs": [
        {
          "output_type": "execute_result",
          "data": {
            "text/plain": [
              "array([[1., 0., 0., 0.],\n",
              "       [1., 1., 0., 0.],\n",
              "       [1., 1., 1., 0.],\n",
              "       [1., 1., 1., 1.]])"
            ]
          },
          "metadata": {},
          "execution_count": 61
        }
      ]
    },
    {
      "cell_type": "code",
      "source": [
        "mask[mask == 0] = np.inf\n",
        "mask[mask == 1] = 0"
      ],
      "metadata": {
        "id": "E-AOfha9I-R3"
      },
      "execution_count": 62,
      "outputs": []
    },
    {
      "cell_type": "code",
      "source": [
        "mask"
      ],
      "metadata": {
        "colab": {
          "base_uri": "https://localhost:8080/"
        },
        "id": "Rg5intWBJmYQ",
        "outputId": "74206363-c822-44bc-970d-896f46089083"
      },
      "execution_count": 64,
      "outputs": [
        {
          "output_type": "execute_result",
          "data": {
            "text/plain": [
              "array([[ 0., inf, inf, inf],\n",
              "       [ 0.,  0., inf, inf],\n",
              "       [ 0.,  0.,  0., inf],\n",
              "       [ 0.,  0.,  0.,  0.]])"
            ]
          },
          "metadata": {},
          "execution_count": 64
        }
      ]
    },
    {
      "cell_type": "code",
      "source": [
        "scaled + mask"
      ],
      "metadata": {
        "colab": {
          "base_uri": "https://localhost:8080/"
        },
        "id": "lfFFnxK6IlAf",
        "outputId": "30350b63-2e9f-4a0f-ddfe-319a7a618bfb"
      },
      "execution_count": 30,
      "outputs": [
        {
          "output_type": "execute_result",
          "data": {
            "text/plain": [
              "array([[ 2.49816193,         inf,         inf,         inf],\n",
              "       [ 1.4429706 , -0.83135241,         inf,         inf],\n",
              "       [-0.86579545,  0.85832841,  2.08518427,         inf],\n",
              "       [-2.68412418,  0.41549876,  0.09782384,  0.96882533]])"
            ]
          },
          "metadata": {},
          "execution_count": 30
        }
      ]
    },
    {
      "cell_type": "code",
      "source": [
        "def softmax(x):\n",
        "  return (np.exp(x).T / np.sum(np.exp(x),axis=-1)).T"
      ],
      "metadata": {
        "id": "V3PTQQZUKS93"
      },
      "execution_count": 33,
      "outputs": []
    },
    {
      "cell_type": "code",
      "source": [
        "attention = softmax(scaled + mask)"
      ],
      "metadata": {
        "collapsed": true,
        "id": "HcVeBMZFLAwH"
      },
      "execution_count": null,
      "outputs": []
    },
    {
      "cell_type": "code",
      "source": [
        "attention"
      ],
      "metadata": {
        "colab": {
          "base_uri": "https://localhost:8080/"
        },
        "id": "PDR0Gn9vLcm2",
        "outputId": "d539a73e-d55c-487d-fde5-b56883bb094a"
      },
      "execution_count": 37,
      "outputs": [
        {
          "output_type": "execute_result",
          "data": {
            "text/plain": [
              "array([[0.        ,        nan,        nan,        nan],\n",
              "       [0.        , 0.        ,        nan,        nan],\n",
              "       [0.        , 0.        , 0.        ,        nan],\n",
              "       [0.0128323 , 0.2847434 , 0.20724745, 0.49517685]])"
            ]
          },
          "metadata": {},
          "execution_count": 37
        }
      ]
    },
    {
      "cell_type": "code",
      "source": [
        "new_v = np.matmul(attention, v)\n",
        "new_v"
      ],
      "metadata": {
        "colab": {
          "base_uri": "https://localhost:8080/"
        },
        "id": "wU772kPmLtaK",
        "outputId": "af213dce-e979-4ac1-bc00-780037865470"
      },
      "execution_count": 48,
      "outputs": [
        {
          "output_type": "execute_result",
          "data": {
            "text/plain": [
              "array([[        nan,         nan,         nan,         nan,         nan,\n",
              "                nan,         nan,         nan],\n",
              "       [        nan,         nan,         nan,         nan,         nan,\n",
              "                nan,         nan,         nan],\n",
              "       [        nan,         nan,         nan,         nan,         nan,\n",
              "                nan,         nan,         nan],\n",
              "       [-0.11578572,  0.60796381, -0.37483162,  0.51935018,  0.38996692,\n",
              "         0.18637581,  0.71736705,  0.36109767]])"
            ]
          },
          "metadata": {},
          "execution_count": 48
        }
      ]
    },
    {
      "cell_type": "code",
      "source": [
        "v"
      ],
      "metadata": {
        "colab": {
          "base_uri": "https://localhost:8080/"
        },
        "id": "u8THeVY3Mn39",
        "outputId": "4d41491c-a0ef-4b1d-8e23-5e76bf36910b"
      },
      "execution_count": 42,
      "outputs": [
        {
          "output_type": "execute_result",
          "data": {
            "text/plain": [
              "array([[ 0.42866258,  0.82167657,  0.43085147, -2.05467844, -0.09052551,\n",
              "        -0.98940962, -0.69436987, -0.71922652],\n",
              "       [-0.03151219, -1.3320934 ,  1.58825816,  2.31884575,  0.00839278,\n",
              "         2.54894556,  1.17091545, -1.90869296],\n",
              "       [-0.08257851,  0.41376524, -1.25621323, -1.09408122, -0.48929809,\n",
              "         1.14154013, -0.3143581 , -0.77694268],\n",
              "       [-0.19225328,  1.79930223, -1.15566684,  0.22655737,  0.9898374 ,\n",
              "        -1.54147852,  0.92495617,  2.17060652]])"
            ]
          },
          "metadata": {},
          "execution_count": 42
        }
      ]
    }
  ]
}